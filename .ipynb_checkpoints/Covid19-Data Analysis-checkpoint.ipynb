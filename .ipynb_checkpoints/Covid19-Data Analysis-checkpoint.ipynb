{
 "cells": [
  {
   "cell_type": "code",
   "execution_count": 1,
   "metadata": {},
   "outputs": [
    {
     "ename": "ModuleNotFoundError",
     "evalue": "No module named 'folium'",
     "output_type": "error",
     "traceback": [
      "\u001b[1;31m---------------------------------------------------------------------------\u001b[0m",
      "\u001b[1;31mModuleNotFoundError\u001b[0m                       Traceback (most recent call last)",
      "\u001b[1;32m<ipython-input-1-d48964ddc291>\u001b[0m in \u001b[0;36m<module>\u001b[1;34m\u001b[0m\n\u001b[0;32m     13\u001b[0m \u001b[1;32mfrom\u001b[0m \u001b[0mplotly\u001b[0m\u001b[1;33m.\u001b[0m\u001b[0moffline\u001b[0m \u001b[1;32mimport\u001b[0m \u001b[0minit_notebook_mode\u001b[0m\u001b[1;33m,\u001b[0m\u001b[0mplot\u001b[0m\u001b[1;33m,\u001b[0m\u001b[0miplot\u001b[0m\u001b[1;33m\u001b[0m\u001b[1;33m\u001b[0m\u001b[0m\n\u001b[0;32m     14\u001b[0m \u001b[1;33m\u001b[0m\u001b[0m\n\u001b[1;32m---> 15\u001b[1;33m \u001b[1;32mimport\u001b[0m \u001b[0mfolium\u001b[0m\u001b[1;33m\u001b[0m\u001b[1;33m\u001b[0m\u001b[0m\n\u001b[0m",
      "\u001b[1;31mModuleNotFoundError\u001b[0m: No module named 'folium'"
     ]
    }
   ],
   "source": [
    "import pandas as pd\n",
    "import matplotlib.pyplot as plt\n",
    "from matplotlib import style\n",
    "style.use('ggplot')\n",
    "%matplotlib inline\n",
    "\n",
    "import plotly\n",
    "import plotly.express as px\n",
    "import plotly.graph_objects as go\n",
    "#plt.rcParams['figure.figsize']=17,8\n",
    "import cufflinks as cf\n",
    "import plotly.offline as pyo\n",
    "from plotly.offline import init_notebook_mode,plot,iplot\n",
    "\n",
    "import folium"
   ]
  },
  {
   "cell_type": "code",
   "execution_count": null,
   "metadata": {},
   "outputs": [],
   "source": [
    "pip install folium"
   ]
  },
  {
   "cell_type": "code",
   "execution_count": null,
   "metadata": {},
   "outputs": [],
   "source": [
    "pyo.init_notebook_mode(connected=True)\n",
    "cf.go_offline()"
   ]
  },
  {
   "cell_type": "code",
   "execution_count": null,
   "metadata": {},
   "outputs": [],
   "source": [
    "df=pd.read_excel(r\"C:\\Python37\\Projects\\Covid-19\\Covid cases in India.xlsx\")"
   ]
  },
  {
   "cell_type": "code",
   "execution_count": null,
   "metadata": {
    "scrolled": false
   },
   "outputs": [],
   "source": [
    "df"
   ]
  },
  {
   "cell_type": "code",
   "execution_count": null,
   "metadata": {},
   "outputs": [],
   "source": [
    "df.drop(['S. No.'],axis=1,inplace=True)"
   ]
  },
  {
   "cell_type": "code",
   "execution_count": null,
   "metadata": {},
   "outputs": [],
   "source": [
    "df"
   ]
  },
  {
   "cell_type": "code",
   "execution_count": null,
   "metadata": {},
   "outputs": [],
   "source": [
    "df['Total Cases']=df['Total Confirmed cases (Indian National)']+df['Total Confirmed cases ( Foreign National )']"
   ]
  },
  {
   "cell_type": "code",
   "execution_count": null,
   "metadata": {},
   "outputs": [],
   "source": [
    "df"
   ]
  },
  {
   "cell_type": "code",
   "execution_count": null,
   "metadata": {},
   "outputs": [],
   "source": [
    "total_cases_overall=df['Total Cases'].sum()\n",
    "print('The total number of cases till now in India is ',total_cases_overall)"
   ]
  },
  {
   "cell_type": "code",
   "execution_count": null,
   "metadata": {},
   "outputs": [],
   "source": [
    "df['Active Cases']=df['Total Cases']-(df['Death']+df['Cured'])"
   ]
  },
  {
   "cell_type": "code",
   "execution_count": null,
   "metadata": {},
   "outputs": [],
   "source": [
    "df"
   ]
  },
  {
   "cell_type": "code",
   "execution_count": null,
   "metadata": {},
   "outputs": [],
   "source": []
  },
  {
   "cell_type": "code",
   "execution_count": null,
   "metadata": {},
   "outputs": [],
   "source": [
    "df.style.background_gradient(cmap='Reds')"
   ]
  },
  {
   "cell_type": "code",
   "execution_count": null,
   "metadata": {},
   "outputs": [],
   "source": []
  },
  {
   "cell_type": "code",
   "execution_count": null,
   "metadata": {},
   "outputs": [],
   "source": [
    "Total_Active_Cases=df.groupby('Name of State / UT')['Total Cases'].sum().sort_values(ascending=False).to_frame()"
   ]
  },
  {
   "cell_type": "code",
   "execution_count": null,
   "metadata": {},
   "outputs": [],
   "source": [
    "Total_Active_Cases"
   ]
  },
  {
   "cell_type": "code",
   "execution_count": null,
   "metadata": {},
   "outputs": [],
   "source": [
    "Total_Active_Cases.style.background_gradient(cmap='Reds')"
   ]
  },
  {
   "cell_type": "code",
   "execution_count": null,
   "metadata": {},
   "outputs": [],
   "source": []
  },
  {
   "cell_type": "code",
   "execution_count": null,
   "metadata": {},
   "outputs": [],
   "source": [
    "################# Graphical Represantaion"
   ]
  },
  {
   "cell_type": "code",
   "execution_count": null,
   "metadata": {},
   "outputs": [],
   "source": [
    "#Pandas vis\n",
    "df.plot(kind='bar',x='Name of State / UT',y='Total Cases')\n",
    "plt.show()\n",
    "#Plotly\n",
    "df.iplot(kind='bar',x='Name of State / UT',y='Total Cases')"
   ]
  },
  {
   "cell_type": "code",
   "execution_count": null,
   "metadata": {},
   "outputs": [],
   "source": [
    "#Matplotlib vis\n",
    "\n",
    "plt.bar(df['Name of State / UT'],df['Total Cases'])"
   ]
  },
  {
   "cell_type": "code",
   "execution_count": null,
   "metadata": {},
   "outputs": [],
   "source": []
  },
  {
   "cell_type": "code",
   "execution_count": null,
   "metadata": {},
   "outputs": [],
   "source": [
    "px.bar(df,x='Name of State / UT',y='Total Cases')"
   ]
  },
  {
   "cell_type": "code",
   "execution_count": null,
   "metadata": {},
   "outputs": [],
   "source": []
  },
  {
   "cell_type": "code",
   "execution_count": null,
   "metadata": {},
   "outputs": [],
   "source": [
    "df.plot(kind='scatter',x='Name of State / UT',y='Total Cases')"
   ]
  },
  {
   "cell_type": "code",
   "execution_count": null,
   "metadata": {},
   "outputs": [],
   "source": [
    "plt.scatter(df['Name of State / UT'],df['Total Cases'])"
   ]
  },
  {
   "cell_type": "code",
   "execution_count": null,
   "metadata": {},
   "outputs": [],
   "source": []
  },
  {
   "cell_type": "code",
   "execution_count": null,
   "metadata": {},
   "outputs": [],
   "source": [
    "df.iplot(kind='scatter',x='Name of State / UT',y='Total Cases',mode='markers+lines',title='My Graph',xTitle='Name of State / UT',yTitle='Total Cases',colors='red',size=20)\n",
    "px.scatter(df,x='Name of State / UT',y='Total Cases')"
   ]
  },
  {
   "cell_type": "code",
   "execution_count": null,
   "metadata": {},
   "outputs": [],
   "source": []
  },
  {
   "cell_type": "code",
   "execution_count": null,
   "metadata": {},
   "outputs": [],
   "source": []
  },
  {
   "cell_type": "code",
   "execution_count": null,
   "metadata": {},
   "outputs": [],
   "source": [
    "#oo vis Total Cases"
   ]
  },
  {
   "cell_type": "code",
   "execution_count": null,
   "metadata": {},
   "outputs": [],
   "source": [
    "#Matplotlib\n",
    "fig=plt.figure(figsize=(20,10),dpi=200)\n",
    "axes=fig.add_axes([0,0,1,1])\n",
    "axes.bar(df['Name of State / UT'],df['Total Cases'])\n",
    "axes.set_title(\"Total Cases in India\")\n",
    "axes.set_xlabel(\"Name of State / UT\")\n",
    "axes.set_ylabel(\"Total Cases\")\n",
    "plt.show()\n",
    "\n",
    "#plotly\n",
    "fig=go.Figure()\n",
    "fig.add_trace(go.Bar(x=df['Name of State / UT'],y=df['Total Cases']))\n",
    "fig.update_layout(title='Total Cases in India',xaxis=dict(title='Name of State / UT'),yaxis=dict(title='Total Cases'))"
   ]
  },
  {
   "cell_type": "code",
   "execution_count": null,
   "metadata": {},
   "outputs": [],
   "source": []
  },
  {
   "cell_type": "code",
   "execution_count": null,
   "metadata": {},
   "outputs": [],
   "source": [
    "Indian_Cord=pd.read_excel(r\"C:\\Python37\\Projects\\Covid-19\\Indian Coordinates.xlsx\")"
   ]
  },
  {
   "cell_type": "code",
   "execution_count": null,
   "metadata": {},
   "outputs": [],
   "source": [
    "Indian_Cord"
   ]
  },
  {
   "cell_type": "code",
   "execution_count": null,
   "metadata": {},
   "outputs": [],
   "source": [
    "df_full=pd.merge(Indian_Cord,df,on='Name of State / UT')"
   ]
  },
  {
   "cell_type": "code",
   "execution_count": null,
   "metadata": {},
   "outputs": [],
   "source": [
    "df_full"
   ]
  },
  {
   "cell_type": "code",
   "execution_count": null,
   "metadata": {},
   "outputs": [],
   "source": [
    "map=folium.Map(location=[20,70],zoom_start=4,tiles='Stamenterrain')\n",
    "\n",
    "for lat,long,value, name in zip(df_full['Latitude'],df_full['Longitude'],df_full['Total Cases'],df_full['Name of State / UT']):\n",
    "    folium.CircleMarker([lat,long],radius=value*0.8,popup=('<strong>State</strong>: '+str(name).capitalize()+'<br>''<strong>Total Cases</strong>: ' + str(value)+ '<br>'),color='red',fill_color='red',fill_opacity=0.3).add_to(map)\n",
    "    "
   ]
  },
  {
   "cell_type": "code",
   "execution_count": null,
   "metadata": {},
   "outputs": [],
   "source": [
    "map"
   ]
  },
  {
   "cell_type": "code",
   "execution_count": null,
   "metadata": {},
   "outputs": [],
   "source": []
  },
  {
   "cell_type": "code",
   "execution_count": null,
   "metadata": {},
   "outputs": [],
   "source": []
  },
  {
   "cell_type": "code",
   "execution_count": null,
   "metadata": {},
   "outputs": [],
   "source": [
    "# How corona virus is rising Globaly"
   ]
  },
  {
   "cell_type": "code",
   "execution_count": null,
   "metadata": {},
   "outputs": [],
   "source": [
    "dbd_India=pd.read_excel(r\"C:\\Python37\\Projects\\Covid-19\\per_day_cases.xlsx\",parse_dates=True,sheet_name=\"India\")\n",
    "dbd_Italy=pd.read_excel(r\"C:\\Python37\\Projects\\Covid-19\\per_day_cases.xlsx\",parse_dates=True,sheet_name=\"Italy\")\n",
    "dbd_Korea=pd.read_excel(r\"C:\\Python37\\Projects\\Covid-19\\per_day_cases.xlsx\",parse_dates=True,sheet_name=\"Korea\")\n",
    "dbd_Wuhan=pd.read_excel(r\"C:\\Python37\\Projects\\Covid-19\\per_day_cases.xlsx\",parse_dates=True,sheet_name=\"Wuhan\")"
   ]
  },
  {
   "cell_type": "code",
   "execution_count": null,
   "metadata": {},
   "outputs": [],
   "source": [
    "dbd_India"
   ]
  },
  {
   "cell_type": "code",
   "execution_count": null,
   "metadata": {},
   "outputs": [],
   "source": []
  },
  {
   "cell_type": "code",
   "execution_count": null,
   "metadata": {},
   "outputs": [],
   "source": [
    "#Matplotlib\n",
    "fig=plt.figure(figsize=(10,5),dpi=200)\n",
    "axes=fig.add_axes([0.1,0.1,0.8,0.8])\n",
    "axes.bar(dbd_India[\"Date\"],dbd_India[\"Total Cases\"],color='blue')\n",
    "axes.set_xlabel(\"Date\")\n",
    "axes.set_ylabel(\"Total Cases\")\n",
    "axes.set_title(\"Confirmed cases in India\")\n",
    "plt.show()\n",
    "\n",
    "\n",
    "#plotly Express\n",
    "\n",
    "fig=px.bar(dbd_India,x=\"Date\",y=\"Total Cases\",color='Total Cases',title='Confirmed cases in India')\n",
    "fig.show()"
   ]
  },
  {
   "cell_type": "code",
   "execution_count": null,
   "metadata": {},
   "outputs": [],
   "source": [
    "fig=px.bar(dbd_Italy,x=\"Date\",y=\"Total Cases\",color='Total Cases',title='Confirmed cases in Italy')\n",
    "fig.show()\n",
    "\n",
    "fig=px.bar(dbd_Korea,x=\"Date\",y=\"Total Cases\",color='Total Cases',title='Confirmed cases in Korea')\n",
    "fig.show()\n",
    "\n",
    "fig=px.bar(dbd_Wuhan,x=\"Date\",y=\"Total Cases\",color='Total Cases',title='Confirmed cases in Wuhan')\n",
    "fig.show()"
   ]
  },
  {
   "cell_type": "code",
   "execution_count": null,
   "metadata": {},
   "outputs": [],
   "source": []
  },
  {
   "cell_type": "code",
   "execution_count": null,
   "metadata": {},
   "outputs": [],
   "source": [
    "fig=plt.figure(figsize=(10,5),dpi=200)\n",
    "axes=fig.add_axes([0.1,0.1,0.8,0.8])\n",
    "axes.plot(dbd_India[\"Date\"],dbd_India[\"Total Cases\"],color='blue',marker='*')\n",
    "axes.set_xlabel(\"Date\")\n",
    "axes.set_ylabel(\"Total Cases\")\n",
    "axes.set_title(\"Confirmed cases in India\")\n",
    "plt.show()\n",
    "\n",
    "\n",
    "#plotly Express\n",
    "\n",
    "fig=px.scatter(dbd_India,x=\"Date\",y=\"Total Cases\",color='Total Cases',title='Confirmed cases in India')\n",
    "fig.show()"
   ]
  },
  {
   "cell_type": "code",
   "execution_count": null,
   "metadata": {},
   "outputs": [],
   "source": []
  },
  {
   "cell_type": "code",
   "execution_count": null,
   "metadata": {},
   "outputs": [],
   "source": [
    "#Plotly\n",
    "dbd_India.iplot(kind='scatter',x='Date',y='Total Cases',mode='lines+markers')"
   ]
  },
  {
   "cell_type": "code",
   "execution_count": null,
   "metadata": {},
   "outputs": [],
   "source": []
  },
  {
   "cell_type": "code",
   "execution_count": null,
   "metadata": {},
   "outputs": [],
   "source": []
  },
  {
   "cell_type": "code",
   "execution_count": null,
   "metadata": {},
   "outputs": [],
   "source": [
    "fig=go.Figure()\n",
    "fig.add_trace(go.Scatter(x=dbd_India['Date'],y=dbd_India['Total Cases'],mode='lines+markers'))"
   ]
  },
  {
   "cell_type": "code",
   "execution_count": null,
   "metadata": {},
   "outputs": [],
   "source": []
  },
  {
   "cell_type": "code",
   "execution_count": null,
   "metadata": {},
   "outputs": [],
   "source": [
    "#Subplots using Bar Graph"
   ]
  },
  {
   "cell_type": "code",
   "execution_count": null,
   "metadata": {},
   "outputs": [],
   "source": [
    "from plotly.subplots import make_subplots"
   ]
  },
  {
   "cell_type": "code",
   "execution_count": null,
   "metadata": {},
   "outputs": [],
   "source": [
    "fig=make_subplots(\n",
    "    rows=2,cols=2,\n",
    "    specs=[[{\"secondary_y\":True},{\"secondary_y\":True}],[{\"secondary_y\":True},{\"secondary_y\":True}]],\n",
    "    subplot_titles=(\"S.Korea\",\"Italy\",\"India\",\"Wuhan\"))\n",
    "\n",
    "fig.add_trace(go.Bar(x=dbd_Korea['Date'],y=dbd_Korea['Total Cases'],\n",
    "                    marker=dict(color=dbd_Korea['Total Cases'],coloraxis=\"coloraxis\")),1,1)\n",
    "\n",
    "fig.add_trace(go.Bar(x=dbd_Italy['Date'],y=dbd_Italy['Total Cases'],\n",
    "                    marker=dict(color=dbd_Italy['Total Cases'],coloraxis=\"coloraxis\")),1,2)\n",
    "\n",
    "fig.add_trace(go.Bar(x=dbd_India['Date'],y=dbd_India['Total Cases'],\n",
    "                    marker=dict(color=dbd_India['Total Cases'],coloraxis=\"coloraxis\")),2,1)\n",
    "\n",
    "fig.add_trace(go.Bar(x=dbd_Wuhan['Date'],y=dbd_Wuhan['Total Cases'],\n",
    "                    marker=dict(color=dbd_Wuhan['Total Cases'],coloraxis=\"coloraxis\")),2,2)\n",
    "\n",
    "\n",
    "\n",
    "fig.update_layout(coloraxis=dict(colorscale='Bluered_r'),showlegend=False,title_text=\"Total Cases in 4 Countries\")\n",
    "\n",
    "fig.update_layout(plot_bgcolor='rgb(230,230,230)')"
   ]
  },
  {
   "cell_type": "code",
   "execution_count": null,
   "metadata": {},
   "outputs": [],
   "source": []
  },
  {
   "cell_type": "code",
   "execution_count": null,
   "metadata": {},
   "outputs": [],
   "source": [
    "fig=make_subplots(\n",
    "    rows=2,cols=2,\n",
    "    specs=[[{\"secondary_y\":True},{\"secondary_y\":True}],[{\"secondary_y\":True},{\"secondary_y\":True}]],\n",
    "    subplot_titles=(\"S.Korea\",\"Italy\",\"India\",\"Wuhan\"))\n",
    "\n",
    "fig.add_trace(go.Scatter(x=dbd_Korea['Date'],y=dbd_Korea['Total Cases'],\n",
    "                    marker=dict(color=dbd_Korea['Total Cases'],coloraxis=\"coloraxis\")),1,1)\n",
    "\n",
    "fig.add_trace(go.Scatter(x=dbd_Italy['Date'],y=dbd_Italy['Total Cases'],\n",
    "                    marker=dict(color=dbd_Italy['Total Cases'],coloraxis=\"coloraxis\")),1,2)\n",
    "\n",
    "fig.add_trace(go.Scatter(x=dbd_India['Date'],y=dbd_India['Total Cases'],\n",
    "                    marker=dict(color=dbd_India['Total Cases'],coloraxis=\"coloraxis\")),2,1)\n",
    "\n",
    "fig.add_trace(go.Scatter(x=dbd_Wuhan['Date'],y=dbd_Wuhan['Total Cases'],\n",
    "                    marker=dict(color=dbd_Wuhan['Total Cases'],coloraxis=\"coloraxis\")),2,2)\n",
    "\n",
    "\n",
    "\n",
    "fig.update_layout(coloraxis=dict(colorscale='Bluered_r'),showlegend=False,title_text=\"Total Cases in 4 Countries\")\n",
    "\n",
    "fig.update_layout(plot_bgcolor='rgb(230,230,230)')"
   ]
  },
  {
   "cell_type": "code",
   "execution_count": null,
   "metadata": {},
   "outputs": [],
   "source": []
  },
  {
   "cell_type": "code",
   "execution_count": null,
   "metadata": {},
   "outputs": [],
   "source": []
  },
  {
   "cell_type": "code",
   "execution_count": null,
   "metadata": {},
   "outputs": [],
   "source": [
    "#World Coronavirus"
   ]
  },
  {
   "cell_type": "code",
   "execution_count": null,
   "metadata": {},
   "outputs": [],
   "source": [
    "df=pd.read_csv('C:\\Python37\\Projects\\Covid-19\\covid_19_data.csv',parse_dates=['Last Update'])"
   ]
  },
  {
   "cell_type": "code",
   "execution_count": null,
   "metadata": {},
   "outputs": [],
   "source": [
    "df.rename(columns={'ObservationDate':'Date','Country/Region':'Country'},inplace=True)"
   ]
  },
  {
   "cell_type": "code",
   "execution_count": null,
   "metadata": {},
   "outputs": [],
   "source": [
    "df"
   ]
  },
  {
   "cell_type": "code",
   "execution_count": null,
   "metadata": {},
   "outputs": [],
   "source": [
    "df.query('Country==\"UK\"')"
   ]
  },
  {
   "cell_type": "code",
   "execution_count": null,
   "metadata": {},
   "outputs": [],
   "source": []
  },
  {
   "cell_type": "code",
   "execution_count": null,
   "metadata": {},
   "outputs": [],
   "source": [
    "df.groupby('Date').sum()"
   ]
  },
  {
   "cell_type": "code",
   "execution_count": null,
   "metadata": {},
   "outputs": [],
   "source": []
  },
  {
   "cell_type": "code",
   "execution_count": null,
   "metadata": {},
   "outputs": [],
   "source": [
    "confirmed=df.groupby('Date').sum()['Confirmed'].reset_index()\n",
    "death=df.groupby('Date').sum()['Deaths'].reset_index()\n",
    "rec=df.groupby('Date').sum()['Recovered'].reset_index()"
   ]
  },
  {
   "cell_type": "code",
   "execution_count": null,
   "metadata": {},
   "outputs": [],
   "source": []
  },
  {
   "cell_type": "code",
   "execution_count": null,
   "metadata": {},
   "outputs": [],
   "source": [
    "fig=go.Figure()\n",
    "fig.add_trace(go.Scatter(x=confirmed['Date'],y=confirmed['Confirmed'],mode='lines+markers',name='Confirmed',line=dict(color='blue',width=2)))\n",
    "\n",
    "fig.add_trace(go.Scatter(x=death['Date'],y=death['Deaths'],mode='lines+markers',name='Deaths',line=dict(color='red',width=2)))\n",
    "fig.add_trace(go.Scatter(x=rec['Date'],y=rec['Recovered'],mode='lines+markers',name='Recovered',line=dict(color='green',width=2)))\n"
   ]
  },
  {
   "cell_type": "code",
   "execution_count": null,
   "metadata": {},
   "outputs": [],
   "source": []
  },
  {
   "cell_type": "code",
   "execution_count": null,
   "metadata": {},
   "outputs": [],
   "source": [
    "df_confirmed=pd.read_csv(r'C:\\Python37\\Projects\\Covid-19\\time_series_covid_19_confirmed.csv')"
   ]
  },
  {
   "cell_type": "code",
   "execution_count": null,
   "metadata": {},
   "outputs": [],
   "source": [
    "df_confirmed.rename(columns={'Country/Region':'Country'},inplace=True)"
   ]
  },
  {
   "cell_type": "code",
   "execution_count": null,
   "metadata": {},
   "outputs": [],
   "source": [
    "df_latlong=pd.merge(df,df_confirmed,on=['Country','Province/State'])"
   ]
  },
  {
   "cell_type": "code",
   "execution_count": null,
   "metadata": {},
   "outputs": [],
   "source": [
    "df_latlong"
   ]
  },
  {
   "cell_type": "code",
   "execution_count": null,
   "metadata": {},
   "outputs": [],
   "source": []
  },
  {
   "cell_type": "code",
   "execution_count": null,
   "metadata": {},
   "outputs": [],
   "source": [
    "fig=px.density_mapbox(df_latlong,lat=\"Lat\",lon=\"Long\",hover_name=\"Province/State\",hover_data=[\"Confirmed\",\"Deaths\",\"Recovered\"],animation_frame=\"Date\",color_continuous_scale=\"Portland\",radius=7,zoom=0,height=700)\n",
    "fig.update_layout(title='Worldwide Corona Virus Cases')\n",
    "fig.update_layout(mapbox_style=\"open-street-map\",mapbox_center_lon=0)\n",
    "fig.update_layout(margin={\"r\":0,\"t\":0,\"l\":0,\"b\":0})"
   ]
  },
  {
   "cell_type": "code",
   "execution_count": null,
   "metadata": {},
   "outputs": [],
   "source": []
  },
  {
   "cell_type": "code",
   "execution_count": null,
   "metadata": {},
   "outputs": [],
   "source": []
  },
  {
   "cell_type": "code",
   "execution_count": null,
   "metadata": {},
   "outputs": [],
   "source": []
  },
  {
   "cell_type": "code",
   "execution_count": null,
   "metadata": {},
   "outputs": [],
   "source": []
  }
 ],
 "metadata": {
  "kernelspec": {
   "display_name": "Python 3",
   "language": "python",
   "name": "python3"
  },
  "language_info": {
   "codemirror_mode": {
    "name": "ipython",
    "version": 3
   },
   "file_extension": ".py",
   "mimetype": "text/x-python",
   "name": "python",
   "nbconvert_exporter": "python",
   "pygments_lexer": "ipython3",
   "version": "3.8.1"
  }
 },
 "nbformat": 4,
 "nbformat_minor": 2
}
